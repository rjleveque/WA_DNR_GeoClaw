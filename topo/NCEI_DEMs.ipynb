{
 "cells": [
  {
   "cell_type": "markdown",
   "metadata": {},
   "source": [
    "# Downloading data from NCEI, cropping, and coarsening\n",
    "\n",
    "\n",
    "Resources:\n",
    "\n",
    " - [Catalog of some datasets](https://data.noaa.gov/waf/NOAA/NESDIS/NGDC/MGG/DEM/iso/)\n",
    " - [NCEI 1/9\" tiles](https://data.noaa.gov//metaview/page?xml=NOAA/NESDIS/NGDC/MGG/DEM/iso/xml/999919.xml&view=getDataView&header=none)\n",
    " "
   ]
  },
  {
   "cell_type": "code",
   "execution_count": null,
   "metadata": {
    "collapsed": false
   },
   "outputs": [],
   "source": [
    "%matplotlib inline"
   ]
  },
  {
   "cell_type": "code",
   "execution_count": null,
   "metadata": {},
   "outputs": [],
   "source": [
    "from pylab import *"
   ]
  },
  {
   "cell_type": "code",
   "execution_count": null,
   "metadata": {},
   "outputs": [],
   "source": [
    "from clawpack.geoclaw import topotools"
   ]
  },
  {
   "cell_type": "markdown",
   "metadata": {},
   "source": [
    "## Download topo from NCEI thredds server\n",
    "\n",
    "### For etopo1 data use:"
   ]
  },
  {
   "cell_type": "code",
   "execution_count": null,
   "metadata": {},
   "outputs": [],
   "source": [
    "etopo1_server = 'https://www.ngdc.noaa.gov/thredds/dodsC/global/ETOPO1_Ice_g_gmt4.nc'"
   ]
  },
  {
   "cell_type": "markdown",
   "metadata": {},
   "source": [
    "We can crop and coarsen in the process, so that a much smaller file is downloaded.\n",
    "\n",
    "Here we crop to a local region and coarsen by a factor 2 to create an array with 2 arc-minute resolution."
   ]
  },
  {
   "cell_type": "code",
   "execution_count": null,
   "metadata": {
    "collapsed": false,
    "scrolled": false
   },
   "outputs": [],
   "source": [
    "extent = [-125,-122,47,49]\n",
    "coarsen = 2\n",
    "etopo1_subset = topotools.read_netcdf(etopo1_server, extent=extent, \n",
    "                                      coarsen=coarsen, verbose=True)"
   ]
  },
  {
   "cell_type": "code",
   "execution_count": null,
   "metadata": {
    "collapsed": false,
    "scrolled": false
   },
   "outputs": [],
   "source": [
    "etopo1_subset.plot()\n",
    "title('topography')\n",
    "savefig('junk.png')"
   ]
  },
  {
   "cell_type": "markdown",
   "metadata": {},
   "source": [
    "## For coastal inundation DEMs use:"
   ]
  },
  {
   "cell_type": "code",
   "execution_count": null,
   "metadata": {},
   "outputs": [],
   "source": [
    "server = 'https://www.ngdc.noaa.gov/thredds/dodsC/regional/'"
   ]
  },
  {
   "cell_type": "markdown",
   "metadata": {},
   "source": [
    "Append to this the name of the netCDF file to access, e.g.\n",
    "\n",
    " - 'astoria_13_mhw_2012.nc'\n",
    " - 'puget_sound_13_mhw_2014.nc'\n",
    " - 'port_townsend_13_mhw_2011.nc'\n",
    " - 'strait_of_juan_de_fuca_13_navd88_2015.nc'"
   ]
  },
  {
   "cell_type": "markdown",
   "metadata": {},
   "source": [
    "Again we can crop and coarsen in the process, so that a much smaller file is downloaded.\n",
    "\n",
    "Here we crop to a smaller extent and coarsen by a factor 6 to create an array with 2 arc-second resolution."
   ]
  },
  {
   "cell_type": "code",
   "execution_count": null,
   "metadata": {
    "collapsed": false
   },
   "outputs": [],
   "source": [
    "path = server + 'puget_sound_13_mhw_2014.nc'\n",
    "extent = [-123, -122.3, 47.85, 48.04]\n",
    "PS_subset_2sec = topotools.read_netcdf(path, extent=extent, coarsen=6, verbose=True)"
   ]
  },
  {
   "cell_type": "markdown",
   "metadata": {},
   "source": [
    "### Check that this agrees with version from local file:"
   ]
  },
  {
   "cell_type": "code",
   "execution_count": null,
   "metadata": {
    "collapsed": false
   },
   "outputs": [],
   "source": [
    "if 1:\n",
    "    path = '/Users/rjl/topo/WA/puget_sound_13_mhw_2014.nc'\n",
    "    extent = [-123, -122.3, 47.85, 48.04]\n",
    "    PS_subset_2sec_local = topotools.read_netcdf(path, extent=extent, coarsen=6, verbose=True)\n",
    "    print('Difference in two Z arrays: ',\\\n",
    "          abs(PS_subset_2sec_local.Z - PS_subset_2sec.Z).max())"
   ]
  },
  {
   "cell_type": "code",
   "execution_count": null,
   "metadata": {
    "collapsed": false
   },
   "outputs": [],
   "source": [
    "PS_subset_2sec.plot()"
   ]
  },
  {
   "cell_type": "markdown",
   "metadata": {},
   "source": [
    "## Plotting the topography\n",
    "\n",
    "The topography object (e.g. `PS_subset_2sec` above) has a function `plot()` defined that makes a basic plot with a predetermined colormap as done above, often useful as a first pass.\n",
    "\n",
    "You can make more fancy and customized plots with any Python plotting commands. \n",
    "The `X, Y, Z` attributes of the topography object (e.g. `PS_subset_2sec`) are numpy arrays of the respective variables."
   ]
  },
  {
   "cell_type": "code",
   "execution_count": null,
   "metadata": {
    "collapsed": false
   },
   "outputs": [],
   "source": [
    "topo = PS_subset_2sec\n",
    "topo.extent"
   ]
  },
  {
   "cell_type": "code",
   "execution_count": null,
   "metadata": {
    "collapsed": false
   },
   "outputs": [],
   "source": [
    "topo2 = topo.crop(filter_region=[-122.6,-122.4,47.9,47.95], coarsen=2)"
   ]
  },
  {
   "cell_type": "code",
   "execution_count": null,
   "metadata": {
    "collapsed": false,
    "scrolled": false
   },
   "outputs": [],
   "source": [
    "topo2.plot()"
   ]
  },
  {
   "cell_type": "code",
   "execution_count": null,
   "metadata": {},
   "outputs": [],
   "source": [
    "topo2.write('topo2.tt3', topo_type=3)"
   ]
  },
  {
   "cell_type": "markdown",
   "metadata": {},
   "source": [
    "## Grid registration\n",
    "\n",
    "It is important to understand how the DEM is registered.  When reading a netCDF file from the NCEI thredds server, the latitude and longitude arrays returned give the points where the DEM elevations `Z` are located.  With earlier `.asc` files the the header often specified the lower left corner of a \"grid cell\" and the DEM values were located at cell centers.  This has caused many headaches.  \n",
    "\n",
    "See http://www.clawpack.org/grid_registration.html for more discussion, and also:\n",
    "\n",
    " - http://www.clawpack.org/topo.html\n",
    " - [ESRI page](http://resources.esri.com/help/9.3/arcgisengine/java/GP_ToolRef/spatial_analyst_tools/esri_ascii_raster_format.htm)\n",
    " - [NOAA page](https://www.ngdc.noaa.gov/mgg/global/gridregistration.html)"
   ]
  },
  {
   "cell_type": "code",
   "execution_count": null,
   "metadata": {
    "collapsed": false
   },
   "outputs": [],
   "source": [
    "print('X = \\n',PS_subset_2sec.X[:2,:2])\n",
    "print('Y = \\n',PS_subset_2sec.Y[:2,:2])\n",
    "print('Z = \\n',PS_subset_2sec.Z[:2,:2])\n",
    "print('x[:5] = \\n', PS_subset_2sec.x[:5])\n",
    "print('y[:5] = \\n', PS_subset_2sec.y[:5])"
   ]
  },
  {
   "cell_type": "markdown",
   "metadata": {},
   "source": [
    "## Saving a DEM for use in GeoClaw"
   ]
  },
  {
   "cell_type": "code",
   "execution_count": null,
   "metadata": {},
   "outputs": [],
   "source": [
    "fname = 'PS_subset_2sec_sample.tt3'\n",
    "PS_subset_2sec.write(fname, topo_type=3)"
   ]
  },
  {
   "cell_type": "markdown",
   "metadata": {},
   "source": [
    "This file contains a header in the fist 6 lines, followed by one line for each row of the topo array.  \n",
    "\n",
    "Here is the header for the file just created:"
   ]
  },
  {
   "cell_type": "code",
   "execution_count": null,
   "metadata": {
    "collapsed": false
   },
   "outputs": [],
   "source": [
    "with open('PS_subset_2sec_sample.tt3','r') as my_file:\n",
    "    for i in range(6):\n",
    "        line = my_file.readline()\n",
    "        print(line.strip())"
   ]
  },
  {
   "cell_type": "markdown",
   "metadata": {},
   "source": [
    "#### Read it back in and check the coordinates:"
   ]
  },
  {
   "cell_type": "code",
   "execution_count": null,
   "metadata": {
    "collapsed": false
   },
   "outputs": [],
   "source": [
    "topo = topotools.Topography()\n",
    "topo.read(fname, topo_type=3)\n",
    "print('X = \\n',topo.X[:2,:2])\n",
    "print('Y = \\n',topo.Y[:2,:2])\n",
    "print('Z = \\n',topo.Z[:2,:2])"
   ]
  },
  {
   "cell_type": "markdown",
   "metadata": {},
   "source": [
    "## Write in asc format with `llcorner` registration:\n",
    "\n",
    "Alternatively we could write it as:"
   ]
  },
  {
   "cell_type": "code",
   "execution_count": null,
   "metadata": {},
   "outputs": [],
   "source": [
    "fname = 'PS_subset_2sec_sample.tt3'\n",
    "PS_subset_2sec.write(fname, topo_type=3, header_style='asc', \n",
    "                     grid_registration='llcorner')"
   ]
  },
  {
   "cell_type": "markdown",
   "metadata": {},
   "source": [
    "`header_style='asc'` causes the labels to appear before the values (either way works when reading into GeoClaw).\n",
    "\n",
    "`grid_registration='llcorner'` causes it to be written with a different header, and with the lower left corner shifted by 1/2 grid cell (at the current resolution)."
   ]
  },
  {
   "cell_type": "markdown",
   "metadata": {},
   "source": [
    "#### Print the header:"
   ]
  },
  {
   "cell_type": "code",
   "execution_count": null,
   "metadata": {
    "collapsed": false
   },
   "outputs": [],
   "source": [
    "with open('PS_subset_2sec_sample.tt3','r') as my_file:\n",
    "    for i in range(6):\n",
    "        line = my_file.readline()\n",
    "        print(line.strip())"
   ]
  },
  {
   "cell_type": "markdown",
   "metadata": {},
   "source": [
    "#### Read it back in and check the coordinates:"
   ]
  },
  {
   "cell_type": "code",
   "execution_count": null,
   "metadata": {
    "collapsed": false
   },
   "outputs": [],
   "source": [
    "topo = topotools.Topography()\n",
    "topo.read(fname, topo_type=3)\n",
    "print('X = \\n',topo.X[:2,:2])\n",
    "print('Y = \\n',topo.Y[:2,:2])\n",
    "print('Z = \\n',topo.Z[:2,:2])"
   ]
  },
  {
   "cell_type": "markdown",
   "metadata": {},
   "source": [
    "Note that once read back in, the GeoClaw tool adjusts `X` and `Y` to again be the proper points."
   ]
  },
  {
   "cell_type": "markdown",
   "metadata": {},
   "source": [
    "## Alignment of data\n",
    "\n",
    "The etopo1 data from thredds has data that lies exactly on integer values of longitude and latitude, with spacing of 1 arcminute in between.  For example:"
   ]
  },
  {
   "cell_type": "code",
   "execution_count": null,
   "metadata": {
    "collapsed": false
   },
   "outputs": [],
   "source": [
    "print('X = \\n',etopo1_subset.X[:2,:2])\n",
    "print('Y = \\n',etopo1_subset.Y[:2,:2])\n",
    "print('Z = \\n',etopo1_subset.Z[:2,:2])"
   ]
  },
  {
   "cell_type": "markdown",
   "metadata": {},
   "source": [
    "The coastal DEMs have the same alignment.  For example, the first $X$ value in the `PS_subset_2sec` topography is 1/3\" away from longitude $-123$.  We didn't pick up that point itself because of the choice of cropping region and coarsening factor.  Be careful what you ask for!"
   ]
  },
  {
   "cell_type": "code",
   "execution_count": null,
   "metadata": {
    "collapsed": false
   },
   "outputs": [],
   "source": [
    "x00 = PS_subset_2sec.X[0,0]\n",
    "offset = (x00 + 123) * 3*3600.\n",
    "print('X[0,0] is %.8f and lies %.6f times 1/3 arcsecond away from -123' % (x00, offset))"
   ]
  },
  {
   "cell_type": "code",
   "execution_count": null,
   "metadata": {},
   "outputs": [],
   "source": []
  }
 ],
 "metadata": {
  "kernelspec": {
   "display_name": "Python 3",
   "language": "python",
   "name": "python3"
  },
  "language_info": {
   "codemirror_mode": {
    "name": "ipython",
    "version": 3
   },
   "file_extension": ".py",
   "mimetype": "text/x-python",
   "name": "python",
   "nbconvert_exporter": "python",
   "pygments_lexer": "ipython3",
   "version": "3.6.2"
  }
 },
 "nbformat": 4,
 "nbformat_minor": 2
}
