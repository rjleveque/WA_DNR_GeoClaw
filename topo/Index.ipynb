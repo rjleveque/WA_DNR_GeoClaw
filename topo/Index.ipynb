{
 "cells": [
  {
   "cell_type": "markdown",
   "metadata": {},
   "source": [
    "# Topography and Bathymetry"
   ]
  },
  {
   "cell_type": "markdown",
   "metadata": {},
   "source": [
    "- [topotools_examples.ipynb](topotools_examples.ipynb) From GeoClaw examples\n",
    "- [NCEI_DEMs.ipynb](NCEI_DEMs.ipynb) Tips to download and use DEMs from NCEI\n",
    "- [Download_Bainbridge_Topo.ipynb](Download_Bainbridge_Topo.ipynb) Download topo for `eagle_harbor_test`\n"
   ]
  }
 ],
 "metadata": {
  "kernelspec": {
   "display_name": "Python 3",
   "language": "python",
   "name": "python3"
  },
  "language_info": {
   "codemirror_mode": {
    "name": "ipython",
    "version": 3
   },
   "file_extension": ".py",
   "mimetype": "text/x-python",
   "name": "python",
   "nbconvert_exporter": "python",
   "pygments_lexer": "ipython3",
   "version": "3.6.2"
  }
 },
 "nbformat": 4,
 "nbformat_minor": 2
}
