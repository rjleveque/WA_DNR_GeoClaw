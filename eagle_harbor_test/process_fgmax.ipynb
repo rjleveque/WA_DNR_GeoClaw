{
 "cells": [
  {
   "cell_type": "markdown",
   "metadata": {},
   "source": [
    "# process fgmax output\n",
    "\n",
    "After running the GeoClaw code, use this notebook to read in and plot the fgmax results.\n",
    "\n",
    "Change the next cell to `%matplotlib notebook` if you want the plots to be live in the notebook (so you can zoom in on them, for example), but then remember to close figures when you are done with them."
   ]
  },
  {
   "cell_type": "code",
   "execution_count": null,
   "metadata": {},
   "outputs": [],
   "source": [
    "%matplotlib inline"
   ]
  },
  {
   "cell_type": "code",
   "execution_count": null,
   "metadata": {},
   "outputs": [],
   "source": [
    "from pylab import *"
   ]
  },
  {
   "cell_type": "code",
   "execution_count": null,
   "metadata": {},
   "outputs": [],
   "source": [
    "from clawpack.geoclaw import fgmax_tools, topotools, dtopotools\n",
    "from clawpack.visclaw import colormaps\n",
    "from scipy.interpolate import RegularGridInterpolator\n",
    "import numpy"
   ]
  },
  {
   "cell_type": "code",
   "execution_count": null,
   "metadata": {},
   "outputs": [],
   "source": [
    "GEmap = imread('EagleHarborGE.jpg')\n",
    "GEextent = [-122.55,-122.48,47.61,47.64]"
   ]
  },
  {
   "cell_type": "code",
   "execution_count": null,
   "metadata": {
    "collapsed": false
   },
   "outputs": [],
   "source": [
    "figure(figsize=(8,6))\n",
    "imshow(GEmap,extent=GEextent)\n",
    "gca().set_aspect(1./cos(47.6*pi/180.))\n",
    "ticklabel_format(useOffset=False)\n",
    "xticks(rotation=20);"
   ]
  },
  {
   "cell_type": "code",
   "execution_count": null,
   "metadata": {},
   "outputs": [],
   "source": [
    "fg = fgmax_tools.FGmaxGrid()"
   ]
  },
  {
   "cell_type": "code",
   "execution_count": null,
   "metadata": {},
   "outputs": [],
   "source": [
    "fg.read_input_data('fgmax_eagle_harbor.txt')"
   ]
  },
  {
   "cell_type": "code",
   "execution_count": null,
   "metadata": {
    "collapsed": false
   },
   "outputs": [],
   "source": [
    "fg.read_output(outdir='_output')"
   ]
  },
  {
   "cell_type": "code",
   "execution_count": null,
   "metadata": {
    "collapsed": false
   },
   "outputs": [],
   "source": [
    "fg.h.shape"
   ]
  },
  {
   "cell_type": "markdown",
   "metadata": {},
   "source": [
    "## Define colormaps:\n",
    "\n",
    "see also https://matplotlib.org/tutorials/colors/colormaps.html\n"
   ]
  },
  {
   "cell_type": "code",
   "execution_count": null,
   "metadata": {},
   "outputs": [],
   "source": [
    "zmin = -60.\n",
    "zmax = 40.\n",
    "land_cmap = colormaps.make_colormap({ 0.0:[0.1,0.4,0.0],\n",
    "                                     0.25:[0.0,1.0,0.0],\n",
    "                                      0.5:[0.8,1.0,0.5],\n",
    "                                      1.0:[0.8,0.5,0.2]})\n",
    "\n",
    "sea_cmap = colormaps.make_colormap({ 0.0:[0,0,1], 1.:[.8,.8,1]})\n",
    "\n",
    "cmap, norm = colormaps.add_colormaps((land_cmap, sea_cmap),\n",
    "                                     data_limits=(zmin,zmax),\n",
    "                                     data_break=0.)                                   \n"
   ]
  },
  {
   "cell_type": "markdown",
   "metadata": {},
   "source": [
    "## Compute subsidence during earthquake\n",
    "\n",
    "The values stored in `fg.B` are the cell-averaged topography values used in GeoClaw *after* uplift or subsidence due to the earthquake.  Since Eagle Harbor lies right on top of the Seattle Fault, there is significant subsidence in this region.  It is important to correct for this before plotting the \"maximum flow depth on shore\", for example, since it affects what cells are considered \"on shore\", as we illustrate below.  We generally want to show the flooding depth in regions that are on shore before the earthquake, even if they end up below sea level afterward.\n",
    "\n",
    "Read in the sea floor deformation file and interpolate to the locations of the fgmax grid.  **Note this is not exactly the right correction** in cases like this where the uplift varies greatly over a small area, but is pretty good and fine for most cases."
   ]
  },
  {
   "cell_type": "code",
   "execution_count": null,
   "metadata": {
    "collapsed": false
   },
   "outputs": [],
   "source": [
    "dtopo_path = '../dtopo/dtopofiles/seattlefault_uniform.tt3'\n",
    "dtopo = dtopotools.DTopography(dtopo_path, dtopo_type=3)\n",
    "x1d = dtopo.X[0,:]\n",
    "y1d = dtopo.Y[:,0]\n",
    "dtopo_func = RegularGridInterpolator((x1d,y1d), dtopo.dZ[-1,:,:].T, \n",
    "                method='linear', bounds_error=False, fill_value=0.)\n",
    "        \n",
    "dz = dtopo_func(list(zip(numpy.ravel(fg.X), numpy.ravel(fg.Y))))\n",
    "dz = numpy.reshape(dz, fg.X.shape)\n",
    "\n",
    "# Estimate of topography before earthquake:\n",
    "B0 = fg.B - dz\n",
    "\n",
    "print('The maximum subsidence over the fgmax region is %.2f meters' % dz.min())\n",
    "print('The maximum uplift over the fgmax region is %.2f meters' % dz.max())"
   ]
  },
  {
   "cell_type": "markdown",
   "metadata": {},
   "source": [
    "There is massive uplift just south of Eagle Harbor but subsidence on the harbor shore, as seen in this plot of the deformation (with the original coast in green):"
   ]
  },
  {
   "cell_type": "code",
   "execution_count": null,
   "metadata": {
    "collapsed": false
   },
   "outputs": [],
   "source": [
    "figure(figsize=(8,6))\n",
    "ax = axes()\n",
    "contour(fg.X, fg.Y, B0, [0], colors='g')  # original shoreline\n",
    "dtopo.plot_dZ_colors(t=2, axes=ax)\n",
    "axis(GEextent)\n",
    "gca().set_aspect(1./cos(47.6*pi/180.))\n",
    "ticklabel_format(useOffset=False)\n",
    "xticks(rotation=20);"
   ]
  },
  {
   "cell_type": "markdown",
   "metadata": {},
   "source": [
    "## Compare topography before and after event"
   ]
  },
  {
   "cell_type": "code",
   "execution_count": null,
   "metadata": {
    "collapsed": false
   },
   "outputs": [],
   "source": [
    "figure(figsize=(8,10))\n",
    "subplot(2,1,1)\n",
    "pc = pcolormesh(fg.X, fg.Y, B0, cmap=cmap, norm=norm)  \n",
    "cb = colorbar(pc, extend='both', shrink=0.5)\n",
    "cb.set_label('meters')\n",
    "gca().set_aspect(1./cos(47.6*pi/180.))\n",
    "ticklabel_format(useOffset=False)\n",
    "xticks(rotation=20);\n",
    "title('GeoClaw topography B, before earthquake')\n",
    "\n",
    "subplot(2,1,2)\n",
    "pc = pcolormesh(fg.X, fg.Y, fg.B, cmap=cmap, norm=norm)  \n",
    "cb = colorbar(pc, extend='both', shrink=0.5)\n",
    "cb.set_label('meters')\n",
    "gca().set_aspect(1./cos(47.6*pi/180.))\n",
    "ticklabel_format(useOffset=False)\n",
    "xticks(rotation=20);\n",
    "title('GeoClaw topography B, after earthquake')"
   ]
  },
  {
   "cell_type": "markdown",
   "metadata": {},
   "source": [
    "### Compare the shorelines"
   ]
  },
  {
   "cell_type": "code",
   "execution_count": null,
   "metadata": {
    "collapsed": false
   },
   "outputs": [],
   "source": [
    "figure(figsize=(8,6))\n",
    "imshow(GEmap,extent=GEextent)\n",
    "contour(fg.X, fg.Y, B0, [0], colors='b')\n",
    "contour(fg.X, fg.Y, fg.B, [0], colors='r')\n",
    "\n",
    "gca().set_aspect(1./cos(47.6*pi/180.))\n",
    "ticklabel_format(useOffset=False)\n",
    "xticks(rotation=20);\n",
    "title('Shore before (blue) and after (red) earthquake')"
   ]
  },
  {
   "cell_type": "markdown",
   "metadata": {},
   "source": [
    "## Define onshore depth based on B0\n",
    "\n",
    "Note that you get misleading results if you replace `B0` by `fg.B` below!"
   ]
  },
  {
   "cell_type": "code",
   "execution_count": null,
   "metadata": {
    "collapsed": false
   },
   "outputs": [],
   "source": [
    "h_onshore = ma.masked_where(B0 < 0., fg.h)\n",
    "print('Maximum flow depth onshore: %.2f m' % h_onshore.max())"
   ]
  },
  {
   "cell_type": "code",
   "execution_count": null,
   "metadata": {
    "collapsed": false
   },
   "outputs": [],
   "source": [
    "#bounds_depth = array([1e-6,0.25,0.5,0.75,1,1.25,1.5])\n",
    "bounds_depth = array([1e-6,0.5,1.,2.,3.,4.,5.])\n",
    "\n",
    "cmap_depth = mpl.colors.ListedColormap([[.7,.7,1],\\\n",
    "                 [.5,.5,1],[0,0,1],\\\n",
    "                 [1,.7,.7], [1,.4,.4], [1,0,0]])\n",
    "\n",
    "# Set color for value exceeding top of range to purple:\n",
    "cmap_depth.set_over(color=[1,0,1])\n",
    "\n",
    "# Set color for land points without inundation to light green:\n",
    "cmap_depth.set_under(color=[.7,1,.7])\n",
    "\n",
    "norm_depth = mpl.colors.BoundaryNorm(bounds_depth, cmap_depth.N)\n",
    "    \n",
    "figure(figsize=(8,6))\n",
    "pc = pcolormesh(fg.X, fg.Y, h_onshore, cmap=cmap_depth, norm=norm_depth)\n",
    "cb = colorbar(pc, extend='max', shrink=0.5)\n",
    "cb.set_label('meters')\n",
    "gca().set_aspect(1./cos(48*pi/180.))\n",
    "ticklabel_format(useOffset=False)\n",
    "xticks(rotation=20)\n",
    "title('Maximum flow depth')\n",
    "#savefigp('h_onshore.png')"
   ]
  },
  {
   "cell_type": "markdown",
   "metadata": {},
   "source": [
    "## Plot on map image\n",
    "\n",
    "To plot on a map we want to mask out the onshore dry points so they don't all get colored green and obscure the map.\n",
    "\n",
    "(Again, observe what happens is you replace `B0` by `fg.B`)."
   ]
  },
  {
   "cell_type": "code",
   "execution_count": null,
   "metadata": {
    "collapsed": false
   },
   "outputs": [],
   "source": [
    "h_onshore = ma.masked_where(B0 < 0, fg.h)\n",
    "\n",
    "# define h_wet_onshore to suppress plotting dry onshore fgmax points:\n",
    "h_wet_onshore = ma.masked_where(fg.h < 0.01, h_onshore)\n",
    "\n",
    "figure(figsize=(8,6))\n",
    "imshow(GEmap,extent=GEextent)\n",
    "\n",
    "pc = pcolormesh(fg.X, fg.Y, h_wet_onshore, cmap=cmap_depth, norm=norm_depth)\n",
    "cb = colorbar(pc, extend='max', shrink=0.5)\n",
    "cb.set_label('meters')\n",
    "gca().set_aspect(1./cos(48*pi/180.))\n",
    "ticklabel_format(useOffset=False)\n",
    "xticks(rotation=20)\n",
    "title('Maximum flow depth')"
   ]
  },
  {
   "cell_type": "markdown",
   "metadata": {},
   "source": [
    "## Plot the maximum speed"
   ]
  },
  {
   "cell_type": "code",
   "execution_count": null,
   "metadata": {
    "collapsed": false
   },
   "outputs": [],
   "source": [
    "print('Maximum flow speed: %.2f m/s' % fg.s.max())"
   ]
  },
  {
   "cell_type": "code",
   "execution_count": null,
   "metadata": {
    "collapsed": false
   },
   "outputs": [],
   "source": [
    "bounds_speed = np.array([1e-6,0.5,1.5,2,2.5,3,4.5,6])\n",
    "cmap_speed = mpl.colors.ListedColormap([[.9,.9,1],[.6,.6,1],\\\n",
    "                 [.3,.3,1],[0,0,1],\\\n",
    "                 [1,.7,.7], [1,.4,.4], [1,0,0]])\n",
    "\n",
    "# Set color for value exceeding top of range to purple:\n",
    "cmap_speed.set_over(color=[1,0,1])\n",
    "\n",
    "# Set color for land points without inundation to light green:\n",
    "cmap_speed.set_under(color=[.7,1,.7])\n",
    "\n",
    "#imshow(GEmap,extent=GEextent)\n",
    "norm_speed = mpl.colors.BoundaryNorm(bounds_speed, cmap_speed.N)\n",
    "\n",
    "figure(figsize=(8,6))\n",
    "pc = pcolormesh(fg.X, fg.Y, fg.s, cmap=cmap_speed, norm=norm_speed)\n",
    "cb = colorbar(pc, extend='max')\n",
    "cb.set_label('m/s')\n",
    "\n",
    "contour(fg.X, fg.Y, B0, [0], colors='k')  # plot original shoreline\n",
    "\n",
    "gca().set_aspect(1./cos(48*pi/180.))\n",
    "ticklabel_format(useOffset=False)\n",
    "xticks(rotation=20)\n",
    "title('Maximum speed')\n"
   ]
  },
  {
   "cell_type": "markdown",
   "metadata": {},
   "source": [
    "### Plot on the map\n",
    "\n",
    "Mask out the speed where the depth is 0 before plotting over the map.\n",
    "\n",
    "We also include a transparency `alpha` in the call to `pcolormesh` so you can see the image below."
   ]
  },
  {
   "cell_type": "code",
   "execution_count": null,
   "metadata": {
    "collapsed": false,
    "scrolled": false
   },
   "outputs": [],
   "source": [
    "s_wet = ma.masked_where(fg.h < 0.01, fg.s)\n",
    "\n",
    "figure(figsize=(8,6))\n",
    "imshow(GEmap,extent=GEextent)\n",
    "\n",
    "pc = pcolormesh(fg.X, fg.Y, s_wet, alpha = 0.5, edgecolors='',\n",
    "                cmap=cmap_speed, norm=norm_speed)\n",
    "cb = colorbar(pc, extend='max')\n",
    "cb.set_label('m/s')\n",
    "gca().set_aspect(1./cos(48*pi/180.))\n",
    "ticklabel_format(useOffset=False)\n",
    "xticks(rotation=20)\n",
    "title('Maximum speed')\n"
   ]
  }
 ],
 "metadata": {
  "kernelspec": {
   "display_name": "Python 3",
   "language": "python",
   "name": "python3"
  },
  "language_info": {
   "codemirror_mode": {
    "name": "ipython",
    "version": 3
   },
   "file_extension": ".py",
   "mimetype": "text/x-python",
   "name": "python",
   "nbconvert_exporter": "python",
   "pygments_lexer": "ipython3",
   "version": "3.6.2"
  }
 },
 "nbformat": 4,
 "nbformat_minor": 2
}
