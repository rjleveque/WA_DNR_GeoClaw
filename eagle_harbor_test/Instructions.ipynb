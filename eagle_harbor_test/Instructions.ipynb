{
 "cells": [
  {
   "cell_type": "markdown",
   "metadata": {},
   "source": [
    "# Instructions\n",
    "\n",
    " - Make sure you have the topo files needed.  Check in the `setrun.py` to see what `topofiles` are specified.\n",
    "   To create them, see `../topo/Download_Bainbridge_Topo`.\n",
    " - Make sure you have the dtopo file needed. Check in the `setrun.py` to see what `dtopofiles` is specified.\n",
    "   To download: `source rsync_from_homer.sh` in the directory `../dtopo`.\n",
    " - Make any adjustments desired in `setrun.py`.\n",
    " - Run the script `make_fgmax.py` to make an input file describing the fgmax grid to be used.\n",
    "   For this example, it selects a rectangular grid of points with spacing 1/3 arcsecond.\n",
    " - Run `make data`.  This creates a bunch of files `*.data` that will be read in by the GeoClaw Fortran code.\n",
    "   It also makes a set of kml files that are very useful to check that things are set up right before running GeoClaw.\n",
    " - Open the kml files in Google Earth (on a Mac, `open *.kml` will do this) and inspect.\n",
    " - Compile the code if necessary using `make .exe`\n",
    " - Run the code using `make output`\n",
    " - Make plots from the time frames using `make plots`, or interactively in an IPython shell, or a notebook.\n",
    " - Make plots from the fgmax results using the notebook [process_fgmax.ipynb](process_fgmax.ipynb)"
   ]
  }
 ],
 "metadata": {
  "kernelspec": {
   "display_name": "Python 3",
   "language": "python",
   "name": "python3"
  },
  "language_info": {
   "codemirror_mode": {
    "name": "ipython",
    "version": 3
   },
   "file_extension": ".py",
   "mimetype": "text/x-python",
   "name": "python",
   "nbconvert_exporter": "python",
   "pygments_lexer": "ipython3",
   "version": "3.6.2"
  }
 },
 "nbformat": 4,
 "nbformat_minor": 2
}
